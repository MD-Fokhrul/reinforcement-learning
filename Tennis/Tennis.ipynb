{
 "cells": [
  {
   "cell_type": "markdown",
   "metadata": {},
   "source": [
    "# Collaboration and Competition\n",
    "\n",
    "---\n",
    "\n",
    "In this notebook, you will learn how to use the Unity ML-Agents environment for the third project of the [Deep Reinforcement Learning Nanodegree](https://www.udacity.com/course/deep-reinforcement-learning-nanodegree--nd893) program.\n",
    "\n",
    "### 1. Start the Environment\n",
    "\n",
    "We begin by importing the necessary packages.  If the code cell below returns an error, please revisit the project instructions to double-check that you have installed [Unity ML-Agents](https://github.com/Unity-Technologies/ml-agents/blob/master/docs/Installation.md) and [NumPy](http://www.numpy.org/)."
   ]
  },
  {
   "cell_type": "code",
   "execution_count": 1,
   "metadata": {},
   "outputs": [
    {
     "name": "stderr",
     "output_type": "stream",
     "text": [
      "INFO:unityagents:\n",
      "'Academy' started successfully!\n",
      "Unity Academy name: Academy\n",
      "        Number of Brains: 1\n",
      "        Number of External Brains : 1\n",
      "        Lesson number : 0\n",
      "        Reset Parameters :\n",
      "\t\t\n",
      "Unity brain name: TennisBrain\n",
      "        Number of Visual Observations (per agent): 0\n",
      "        Vector Observation space type: continuous\n",
      "        Vector Observation space size (per agent): 8\n",
      "        Number of stacked Vector Observation: 3\n",
      "        Vector Action space type: continuous\n",
      "        Vector Action space size (per agent): 2\n",
      "        Vector Action descriptions: , \n"
     ]
    },
    {
     "name": "stdout",
     "output_type": "stream",
     "text": [
      "Number of agents: 2\n",
      "Size of each action: 2\n",
      "There are 2 agents. Each observes a state with length: 24\n"
     ]
    }
   ],
   "source": [
    "import sys\n",
    "sys.path.append('../')\n",
    "\n",
    "from unityagents import UnityEnvironment\n",
    "from collections import deque\n",
    "\n",
    "import matplotlib.pyplot as plt\n",
    "import pandas as pd\n",
    "import numpy as np\n",
    "import utils.config \n",
    "import pprint\n",
    "import torch\n",
    "\n",
    "env = UnityEnvironment(file_name=\"Tennis_Linux/Tennis.x86\", no_graphics=False)\n",
    "\n",
    "# get the default brain\n",
    "brain_name = env.brain_names[0]\n",
    "brain = env.brains[brain_name]\n",
    "\n",
    "# reset the environment\n",
    "env_info = env.reset(train_mode=True)[brain_name]\n",
    "\n",
    "# number of agents \n",
    "num_agents = len(env_info.agents)\n",
    "print('Number of agents:', num_agents)\n",
    "\n",
    "# size of each action\n",
    "action_size = brain.vector_action_space_size\n",
    "print('Size of each action:', action_size)\n",
    "\n",
    "# examine the state space \n",
    "states = env_info.vector_observations\n",
    "state_size = states.shape[1]\n",
    "print('There are {} agents. Each observes a state with length: {}'.format(states.shape[0], state_size))"
   ]
  },
  {
   "cell_type": "markdown",
   "metadata": {},
   "source": [
    "### 2. Create instance of agent\n",
    "\n",
    "Agent's hyperparameters are saved and loaded from config.py file in utils folder. Current values are result of selected after hyperparameter tuing. But you can try different hyperparameter values if you want.\n",
    "\n",
    "If you just want to see the trained agent jump to cell 5.\n"
   ]
  },
  {
   "cell_type": "code",
   "execution_count": 2,
   "metadata": {},
   "outputs": [
    {
     "name": "stdout",
     "output_type": "stream",
     "text": [
      "Created agent with following hyperparameter values:\n",
      "{'action_size': 2,\n",
      " 'agent_name': 'MADDPG',\n",
      " 'batch_size': 128,\n",
      " 'buffer_size': 1000000,\n",
      " 'eb_duration': 400,\n",
      " 'eb_end': 0,\n",
      " 'eb_start': 5,\n",
      " 'fc1_units': 256,\n",
      " 'fc2_units': 128,\n",
      " 'gamma': 0.99,\n",
      " 'lr_actor': 0.001,\n",
      " 'lr_critic': 0.001,\n",
      " 'n_agents': 2,\n",
      " 'random_seed': 0,\n",
      " 'state_size': 24,\n",
      " 'tau': 0.06,\n",
      " 'weight_decay': 0}\n"
     ]
    }
   ],
   "source": [
    "#from agents.maddpg import MADDPG\n",
    "from agents.maddpg_agent import MADDPG\n",
    "\n",
    "# Load parameters from file\n",
    "params = utils.config.HYPERPARAMS['Tennis1']\n",
    "\n",
    "# Create agent instance\n",
    "agent = MADDPG(params['agent'])\n",
    "print(\"Created agent with following hyperparameter values:\")\n",
    "pprint.pprint(params['agent'])"
   ]
  },
  {
   "cell_type": "markdown",
   "metadata": {},
   "source": [
    "### 3. Train an agent!"
   ]
  },
  {
   "cell_type": "code",
   "execution_count": 3,
   "metadata": {},
   "outputs": [
    {
     "name": "stdout",
     "output_type": "stream",
     "text": [
      "Episode 100\tMax Score: 0.100000\tAverage Score: 0.008900\n",
      "Episode 200\tMax Score: 0.100000\tAverage Score: 0.027800\n",
      "Episode 300\tMax Score: 0.200000\tAverage Score: 0.104300\n",
      "Episode 400\tMax Score: 0.100000\tAverage Score: 0.150300\n",
      "Episode 500\tMax Score: 0.100000\tAverage Score: 0.128100\n",
      "Episode 600\tMax Score: 0.100000\tAverage Score: 0.405900\n",
      "Episode 619\tMax Score: 1.300000\tAverage Score: 0.507200\n",
      "Environment solved in 519 episodes!\tAverage Score: 0.51\n"
     ]
    }
   ],
   "source": [
    "# Reset and set environment to training mode\n",
    "env_info = env.reset(train_mode=True)[brain_name]\n",
    "\n",
    "# Maximum number of training episodes\n",
    "n_episodes = params['n_episodes']\n",
    "\n",
    "# List containing scores from each episode\n",
    "scores = []\n",
    "\n",
    "# Store last 100 scores\n",
    "scores_window = deque(maxlen=params['scores_window_size'])\n",
    "\n",
    "# Train loop\n",
    "for i_episode in range(1, n_episodes+1):\n",
    "    # Reset environment\n",
    "    env_info = env.reset(train_mode=True)[brain_name]\n",
    "\n",
    "    # Observe current state\n",
    "    states = env_info.vector_observations\n",
    "\n",
    "    # Reset score\n",
    "    agent_scores = np.zeros(num_agents)\n",
    "    \n",
    "    # Reset agent\n",
    "    agent.reset()\n",
    "\n",
    "    # Loop each episode\n",
    "    while True:\n",
    "\n",
    "        # Select action \n",
    "        actions = agent.act(states)\n",
    "\n",
    "        # Take action\n",
    "        env_info = env.step(actions)[brain_name]\n",
    "\n",
    "        # Get next state, reward and done\n",
    "        next_states = env_info.vector_observations\n",
    "        rewards = env_info.rewards\n",
    "        dones = env_info.local_done\n",
    "\n",
    "        # Store experience and learn\n",
    "        agent.step(states, actions, rewards, next_states, dones)\n",
    "\n",
    "        # State transition\n",
    "        states = next_states\n",
    "\n",
    "        # Update total score\n",
    "        agent_scores += rewards\n",
    "        \n",
    "        # Exit loop if episode finished\n",
    "        if np.any(dones):                                  \n",
    "            break\n",
    "            \n",
    "    # Save most recent score\n",
    "    scores_window.append(np.max(agent_scores))\n",
    "    scores.append([np.max(agent_scores), np.mean(scores_window)])\n",
    "\n",
    "    # Print learning progress\n",
    "    print('\\rEpisode {}\\tMax Score: {:.6f}\\tAverage Score: {:.6f}'.format(i_episode, np.max(agent_scores), np.mean(scores_window)), end=\"\")\n",
    "    if i_episode % params['scores_window_size'] == 0:\n",
    "        print('\\rEpisode {}\\tMax Score: {:.6f}\\tAverage Score: {:.6f}'.format(i_episode, np.max(agent_scores), np.mean(scores_window)))\n",
    "    if np.mean(scores_window)>=params['solve_score']:\n",
    "        print('\\nEnvironment solved in {:d} episodes!\\tAverage Score: {:.2f}'.format(i_episode-100, np.mean(scores_window)))\n",
    "        filename = 'checkpoint'\n",
    "        agent.save(filename)\n",
    "        break"
   ]
  },
  {
   "cell_type": "markdown",
   "metadata": {},
   "source": [
    "### 4. Save and plot the score"
   ]
  },
  {
   "cell_type": "code",
   "execution_count": 4,
   "metadata": {},
   "outputs": [
    {
     "data": {
      "image/png": "[encoded data removed]",
      "text/plain": [
       "<Figure size 720x360 with 1 Axes>"
      ]
     },
     "metadata": {
      "needs_background": "light"
     },
     "output_type": "display_data"
    }
   ],
   "source": [
    "# Save score\n",
    "df = pd.DataFrame(scores,columns=['scores','average_scores'])\n",
    "df.to_csv('scores/{:s}.csv'.format(filename))\n",
    "\n",
    "# Plot scores\n",
    "plt.figure(figsize=(10,5))\n",
    "plt.axhline(params['solve_score'], color='red', lw=1, alpha=0.3)\n",
    "plt.plot( df.index, 'scores', data=df, color='lime', lw=1, label=\"score\", alpha=0.4)\n",
    "plt.plot( df.index, 'average_scores', data=df, color='green', lw=2, label=\"average score\")\n",
    "# Set labels and legends\n",
    "plt.xlabel('Episode')\n",
    "plt.xlim(0, len(df.index))\n",
    "#plt.xticks(50*np.arange(int(len(df.index)/50+1)))\n",
    "plt.ylabel('Score')\n",
    "#plt.yticks(3*np.arange(8))\n",
    "plt.title(filename)\n",
    "plt.grid(True, alpha=0.3, linestyle='--')\n",
    "plt.legend()\n",
    "# Save figure\n",
    "plt.savefig('docs/plots/{:s}.png'.format(filename), bbox_inches='tight')\n",
    "plt.show()"
   ]
  },
  {
   "cell_type": "markdown",
   "metadata": {},
   "source": [
    "### 5. Watch smart agent\n",
    "\n",
    "If you are skipped training, please specify filename for pre-trained network model.\n"
   ]
  },
  {
   "cell_type": "code",
   "execution_count": 5,
   "metadata": {},
   "outputs": [
    {
     "name": "stdout",
     "output_type": "stream",
     "text": [
      "Episode 1 Score:2.600000\n"
     ]
    }
   ],
   "source": [
    "# Speed (False: Real time, True: Fast)\n",
    "train_mode = False\n",
    "\n",
    "# reset the environment\n",
    "env_info = env.reset(train_mode=train_mode)[brain_name]\n",
    "\n",
    "# Load learned model weight. Load 'checkpoint' for optimal model\n",
    "#filename = 'checkpoint'\n",
    "agent.load(filename)\n",
    "\n",
    "# Number of episodes to run\n",
    "n_episodes = 1\n",
    "\n",
    "# Run loop\n",
    "for i_episode in range(1, n_episodes+1):\n",
    "    # Reset environment\n",
    "    env_info = env.reset(train_mode=train_mode)[brain_name]\n",
    "\n",
    "    # Observe current state\n",
    "    states = env_info.vector_observations\n",
    "\n",
    "    # Reset score and done flag\n",
    "    score = np.zeros(num_agents)\n",
    "\n",
    "    # Episode loop\n",
    "    while True:\n",
    "\n",
    "        # Select action with greedy policy\n",
    "        actions = agent.act(states, add_noise=False)\n",
    "\n",
    "        # Take action\n",
    "        env_info = env.step(actions)[brain_name]\n",
    "\n",
    "        # Observe the next state\n",
    "        next_states = env_info.vector_observations\n",
    "\n",
    "        # Get the reward\n",
    "        rewards = env_info.rewards\n",
    "\n",
    "        # Check if episode is finished\n",
    "        dones = env_info.local_done\n",
    "\n",
    "        # State transition\n",
    "        states = next_states\n",
    "\n",
    "        # Update total score\n",
    "        score += rewards\n",
    "        \n",
    "        # Exit loop if episode finished\n",
    "        if np.any(dones):                                  \n",
    "            break\n",
    "\n",
    "    # Print episode summary\n",
    "    print('Episode {} Score:{:.6f}'.format(i_episode, np.mean(score)))"
   ]
  },
  {
   "cell_type": "markdown",
   "metadata": {},
   "source": [
    "When finished, close the environment.\n"
   ]
  },
  {
   "cell_type": "code",
   "execution_count": 6,
   "metadata": {},
   "outputs": [],
   "source": [
    "env.close()"
   ]
  }
 ],
 "metadata": {
  "kernelspec": {
   "display_name": "drlnd",
   "language": "python",
   "name": "drlnd"
  },
  "language_info": {
   "codemirror_mode": {
    "name": "ipython",
    "version": 3
   },
   "file_extension": ".py",
   "mimetype": "text/x-python",
   "name": "python",
   "nbconvert_exporter": "python",
   "pygments_lexer": "ipython3",
   "version": "3.6.7"
  }
 },
 "nbformat": 4,
 "nbformat_minor": 2
}
