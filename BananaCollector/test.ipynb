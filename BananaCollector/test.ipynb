{
 "cells": [
  {
   "cell_type": "markdown",
   "metadata": {},
   "source": [
    "# Banana collector\n",
    "\n",
    "---\n",
    "\n",
    "In this notebook, we will test already trained DQN agent.\n",
    "\n",
    "### 1. Start the Environment\n"
   ]
  },
  {
   "cell_type": "code",
   "execution_count": null,
   "metadata": {},
   "outputs": [],
   "source": [
    "import sys\n",
    "sys.path.append('../')\n",
    "\n",
    "from unityagents import UnityEnvironment\n",
    "from agents.dqn_agent import Agent\n",
    "\n",
    "import config \n",
    "import torch\n",
    "\n",
    "env = UnityEnvironment(file_name=\"Banana_Linux/Banana.x86_64\")\n",
    "\n",
    "# get the default brain\n",
    "brain_name = env.brain_names[0]\n",
    "brain = env.brains[brain_name]\n",
    "\n",
    "# Speed (False: Real time, True: Fast)\n",
    "train_mode = False\n",
    "\n",
    "# reset the environment\n",
    "env_info = env.reset(train_mode=train_mode)[brain_name]\n",
    "\n",
    "# Load parameters from file\n",
    "params = config.HYPERPARAMS\n",
    "\n",
    "# Create DQN agent instance\n",
    "agent = Agent(params)\n",
    "\n",
    "# Load learned model weight\n",
    "agent.qnetwork_local.load_state_dict(torch.load('models/checkpoint.pth'))"
   ]
  },
  {
   "cell_type": "markdown",
   "metadata": {},
   "source": [
    "### 2. Run DQN agent!"
   ]
  },
  {
   "cell_type": "code",
   "execution_count": null,
   "metadata": {},
   "outputs": [],
   "source": [
    "# Number of episodes to run\n",
    "n_episodes = 3\n",
    "\n",
    "# Train loop\n",
    "for i_episode in range(1, n_episodes+1):\n",
    "    # Reset environment\n",
    "    env_info = env.reset(train_mode=train_mode)[brain_name]\n",
    "\n",
    "    # Observe current state\n",
    "    state = env_info.vector_observations[0]\n",
    "\n",
    "    # Reset score and done flag\n",
    "    score = 0\n",
    "    done = False\n",
    "\n",
    "    # Episode loop\n",
    "    while not done:\n",
    "\n",
    "        # Select action with greedy policy\n",
    "        action = agent.act(state)\n",
    "\n",
    "        # Take action\n",
    "        env_info = env.step(action)[brain_name]\n",
    "\n",
    "        # Observe the next state\n",
    "        next_state = env_info.vector_observations[0]\n",
    "\n",
    "        # Get the reward\n",
    "        reward = env_info.rewards[0]\n",
    "\n",
    "        # Check if episode is finished\n",
    "        done = env_info.local_done[0]\n",
    "\n",
    "        # State transition\n",
    "        state = next_state\n",
    "\n",
    "        # Update total score\n",
    "        score += reward\n",
    "\n",
    "    # Print episode summary\n",
    "    print('Episode %d Score:%d'%(i_episode, score))\n",
    "\n",
    "# close the environment\n",
    "env.close()"
   ]
  }
 ],
 "metadata": {
  "kernelspec": {
   "display_name": "drlnd",
   "language": "python",
   "name": "drlnd"
  },
  "language_info": {
   "codemirror_mode": {
    "name": "ipython",
    "version": 3.0
   },
   "file_extension": ".py",
   "mimetype": "text/x-python",
   "name": "python",
   "nbconvert_exporter": "python",
   "pygments_lexer": "ipython3",
   "version": "3.6.7"
  }
 },
 "nbformat": 4,
 "nbformat_minor": 0
}